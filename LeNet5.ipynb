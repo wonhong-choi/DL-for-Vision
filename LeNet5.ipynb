{
 "cells": [
  {
   "cell_type": "markdown",
   "metadata": {},
   "source": [
    "# Data"
   ]
  },
  {
   "cell_type": "code",
   "execution_count": 10,
   "metadata": {},
   "outputs": [],
   "source": [
    "from keras.datasets import mnist\n",
    "from keras.utils import np_utils\n",
    "import numpy as np\n",
    "\n",
    "(X_train, y_train), (X_test, y_test) = mnist.load_data()\n",
    "\n",
    "mean=np.mean(X_train)\n",
    "std =np.std(X_train)\n",
    "\n",
    "# normalize\n",
    "X_train = (X_train-mean)/(std+1e-7)\n",
    "X_test = (X_test-mean)/(std+1e-7)\n",
    "\n",
    "# one hot\n",
    "num_classes=10\n",
    "y_train=np_utils.to_categorical(y_train, num_classes)\n",
    "y_test = np_utils.to_categorical(y_test, num_classes)\n",
    "\n",
    "# reshape\n",
    "X_train = X_train.reshape(X_train.shape[0], X_train.shape[1], X_train.shape[2], 1)\n",
    "X_test = X_test.reshape(X_test.shape[0], X_test.shape[1], X_test.shape[2], 1)"
   ]
  },
  {
   "cell_type": "markdown",
   "metadata": {},
   "source": [
    "# Model"
   ]
  },
  {
   "cell_type": "code",
   "execution_count": 11,
   "metadata": {},
   "outputs": [],
   "source": [
    "from keras.models import Sequential\n",
    "from keras.layers import Conv2D, AveragePooling2D, Flatten, Dense\n",
    "\n",
    "def LeNet5():\n",
    "    model = Sequential()\n",
    "\n",
    "    # Conv1\n",
    "    model.add(Conv2D(6, kernel_size=5, strides=1, activation='tanh', padding='same', input_shape=(28,28,1)))\n",
    "    \n",
    "    # AvgPool2\n",
    "    model.add(AveragePooling2D(pool_size=2, strides=2, padding='valid')) # valid == no padding\n",
    "\n",
    "    # Conv3\n",
    "    model.add(Conv2D(filters=16, kernel_size=5, strides=1, activation='tanh', padding='valid'))\n",
    "\n",
    "    # AvgPool4\n",
    "    model.add(AveragePooling2D(pool_size=2, strides=2, padding='valid'))\n",
    "    \n",
    "    # Conv5\n",
    "    model.add(Conv2D(120, kernel_size=5, strides=1, activation='tanh', padding='valid'))\n",
    "\n",
    "    model.add(Flatten())\n",
    "\n",
    "    # FC6\n",
    "    model.add(Dense(units=84, activation='tanh'))\n",
    "\n",
    "    # FC7\n",
    "    model.add(Dense(units=10, activation='softmax'))\n",
    "\n",
    "    return model"
   ]
  },
  {
   "cell_type": "code",
   "execution_count": 19,
   "metadata": {},
   "outputs": [],
   "source": [
    "def LeNet5_relu():\n",
    "    model = Sequential()\n",
    "\n",
    "    # Conv1\n",
    "    model.add(Conv2D(6, kernel_size=5, strides=1, activation='relu', padding='same', input_shape=(28,28,1)))\n",
    "    \n",
    "    # AvgPool2\n",
    "    model.add(AveragePooling2D(pool_size=2, strides=2, padding='valid')) # valid == no padding\n",
    "\n",
    "    # Conv3\n",
    "    model.add(Conv2D(filters=16, kernel_size=5, strides=1, activation='relu', padding='valid'))\n",
    "\n",
    "    # AvgPool4\n",
    "    model.add(AveragePooling2D(pool_size=2, strides=2, padding='valid'))\n",
    "    \n",
    "    # Conv5\n",
    "    model.add(Conv2D(120, kernel_size=5, strides=1, activation='relu', padding='valid'))\n",
    "\n",
    "    model.add(Flatten())\n",
    "\n",
    "    # FC6\n",
    "    model.add(Dense(units=84, activation='relu'))\n",
    "\n",
    "    # FC7\n",
    "    model.add(Dense(units=10, activation='softmax'))\n",
    "\n",
    "    return model"
   ]
  },
  {
   "cell_type": "code",
   "execution_count": 12,
   "metadata": {},
   "outputs": [
    {
     "name": "stdout",
     "output_type": "stream",
     "text": [
      "Model: \"sequential_1\"\n",
      "_________________________________________________________________\n",
      " Layer (type)                Output Shape              Param #   \n",
      "=================================================================\n",
      " conv2d_3 (Conv2D)           (None, 28, 28, 6)         156       \n",
      "                                                                 \n",
      " average_pooling2d_2 (Averag  (None, 14, 14, 6)        0         \n",
      " ePooling2D)                                                     \n",
      "                                                                 \n",
      " conv2d_4 (Conv2D)           (None, 10, 10, 16)        2416      \n",
      "                                                                 \n",
      " average_pooling2d_3 (Averag  (None, 5, 5, 16)         0         \n",
      " ePooling2D)                                                     \n",
      "                                                                 \n",
      " conv2d_5 (Conv2D)           (None, 1, 1, 120)         48120     \n",
      "                                                                 \n",
      " flatten_1 (Flatten)         (None, 120)               0         \n",
      "                                                                 \n",
      " dense_2 (Dense)             (None, 84)                10164     \n",
      "                                                                 \n",
      " dense_3 (Dense)             (None, 10)                850       \n",
      "                                                                 \n",
      "=================================================================\n",
      "Total params: 61,706\n",
      "Trainable params: 61,706\n",
      "Non-trainable params: 0\n",
      "_________________________________________________________________\n"
     ]
    }
   ],
   "source": [
    "model=LeNet5()\n",
    "model.summary()"
   ]
  },
  {
   "cell_type": "code",
   "execution_count": 20,
   "metadata": {},
   "outputs": [
    {
     "name": "stdout",
     "output_type": "stream",
     "text": [
      "Model: \"sequential_2\"\n",
      "_________________________________________________________________\n",
      " Layer (type)                Output Shape              Param #   \n",
      "=================================================================\n",
      " conv2d_6 (Conv2D)           (None, 28, 28, 6)         156       \n",
      "                                                                 \n",
      " average_pooling2d_4 (Averag  (None, 14, 14, 6)        0         \n",
      " ePooling2D)                                                     \n",
      "                                                                 \n",
      " conv2d_7 (Conv2D)           (None, 10, 10, 16)        2416      \n",
      "                                                                 \n",
      " average_pooling2d_5 (Averag  (None, 5, 5, 16)         0         \n",
      " ePooling2D)                                                     \n",
      "                                                                 \n",
      " conv2d_8 (Conv2D)           (None, 1, 1, 120)         48120     \n",
      "                                                                 \n",
      " flatten_2 (Flatten)         (None, 120)               0         \n",
      "                                                                 \n",
      " dense_4 (Dense)             (None, 84)                10164     \n",
      "                                                                 \n",
      " dense_5 (Dense)             (None, 10)                850       \n",
      "                                                                 \n",
      "=================================================================\n",
      "Total params: 61,706\n",
      "Trainable params: 61,706\n",
      "Non-trainable params: 0\n",
      "_________________________________________________________________\n"
     ]
    }
   ],
   "source": [
    "model_relu=LeNet5_relu()\n",
    "model_relu.summary()"
   ]
  },
  {
   "cell_type": "markdown",
   "metadata": {},
   "source": [
    "# Train"
   ]
  },
  {
   "cell_type": "code",
   "execution_count": 13,
   "metadata": {},
   "outputs": [],
   "source": [
    "def lr_schedule(epoch):\n",
    "    if epoch <=2:\n",
    "        return 5e-4\n",
    "    elif epoch <=5:\n",
    "        return 2e-4\n",
    "    elif epoch <=9:\n",
    "        return 5e-5\n",
    "    return 1e-5"
   ]
  },
  {
   "cell_type": "code",
   "execution_count": 17,
   "metadata": {},
   "outputs": [
    {
     "name": "stdout",
     "output_type": "stream",
     "text": [
      "Epoch 1/20\n",
      "\n",
      "Epoch 1: val_accuracy improved from -inf to 0.89120, saving model to .\\LeNet5.hdf5\n",
      "1875/1875 - 7s - loss: 0.4913 - accuracy: 0.8787 - val_loss: 0.4476 - val_accuracy: 0.8912 - lr: 5.0000e-04 - 7s/epoch - 4ms/step\n",
      "Epoch 2/20\n",
      "\n",
      "Epoch 2: val_accuracy improved from 0.89120 to 0.89810, saving model to .\\LeNet5.hdf5\n",
      "1875/1875 - 6s - loss: 0.4473 - accuracy: 0.8874 - val_loss: 0.4114 - val_accuracy: 0.8981 - lr: 5.0000e-04 - 6s/epoch - 3ms/step\n",
      "Epoch 3/20\n",
      "\n",
      "Epoch 3: val_accuracy improved from 0.89810 to 0.90190, saving model to .\\LeNet5.hdf5\n",
      "1875/1875 - 6s - loss: 0.4152 - accuracy: 0.8930 - val_loss: 0.3843 - val_accuracy: 0.9019 - lr: 5.0000e-04 - 6s/epoch - 3ms/step\n",
      "Epoch 4/20\n",
      "\n",
      "Epoch 4: val_accuracy improved from 0.90190 to 0.90400, saving model to .\\LeNet5.hdf5\n",
      "1875/1875 - 6s - loss: 0.3970 - accuracy: 0.8964 - val_loss: 0.3749 - val_accuracy: 0.9040 - lr: 2.0000e-04 - 6s/epoch - 3ms/step\n",
      "Epoch 5/20\n",
      "\n",
      "Epoch 5: val_accuracy improved from 0.90400 to 0.90450, saving model to .\\LeNet5.hdf5\n",
      "1875/1875 - 6s - loss: 0.3880 - accuracy: 0.8983 - val_loss: 0.3664 - val_accuracy: 0.9045 - lr: 2.0000e-04 - 6s/epoch - 3ms/step\n",
      "Epoch 6/20\n",
      "\n",
      "Epoch 6: val_accuracy improved from 0.90450 to 0.90570, saving model to .\\LeNet5.hdf5\n",
      "1875/1875 - 6s - loss: 0.3797 - accuracy: 0.8997 - val_loss: 0.3588 - val_accuracy: 0.9057 - lr: 2.0000e-04 - 6s/epoch - 3ms/step\n",
      "Epoch 7/20\n",
      "\n",
      "Epoch 7: val_accuracy improved from 0.90570 to 0.90600, saving model to .\\LeNet5.hdf5\n",
      "1875/1875 - 6s - loss: 0.3747 - accuracy: 0.9007 - val_loss: 0.3569 - val_accuracy: 0.9060 - lr: 5.0000e-05 - 6s/epoch - 3ms/step\n",
      "Epoch 8/20\n",
      "\n",
      "Epoch 8: val_accuracy did not improve from 0.90600\n",
      "1875/1875 - 6s - loss: 0.3729 - accuracy: 0.9012 - val_loss: 0.3551 - val_accuracy: 0.9060 - lr: 5.0000e-05 - 6s/epoch - 3ms/step\n",
      "Epoch 9/20\n",
      "\n",
      "Epoch 9: val_accuracy improved from 0.90600 to 0.90640, saving model to .\\LeNet5.hdf5\n",
      "1875/1875 - 6s - loss: 0.3710 - accuracy: 0.9016 - val_loss: 0.3533 - val_accuracy: 0.9064 - lr: 5.0000e-05 - 6s/epoch - 3ms/step\n",
      "Epoch 10/20\n",
      "\n",
      "Epoch 10: val_accuracy did not improve from 0.90640\n",
      "1875/1875 - 6s - loss: 0.3692 - accuracy: 0.9017 - val_loss: 0.3516 - val_accuracy: 0.9064 - lr: 5.0000e-05 - 6s/epoch - 3ms/step\n",
      "Epoch 11/20\n",
      "\n",
      "Epoch 11: val_accuracy did not improve from 0.90640\n",
      "1875/1875 - 6s - loss: 0.3681 - accuracy: 0.9021 - val_loss: 0.3512 - val_accuracy: 0.9064 - lr: 1.0000e-05 - 6s/epoch - 3ms/step\n",
      "Epoch 12/20\n",
      "\n",
      "Epoch 12: val_accuracy did not improve from 0.90640\n",
      "1875/1875 - 6s - loss: 0.3678 - accuracy: 0.9021 - val_loss: 0.3509 - val_accuracy: 0.9064 - lr: 1.0000e-05 - 6s/epoch - 3ms/step\n",
      "Epoch 13/20\n",
      "\n",
      "Epoch 13: val_accuracy did not improve from 0.90640\n",
      "1875/1875 - 6s - loss: 0.3674 - accuracy: 0.9022 - val_loss: 0.3505 - val_accuracy: 0.9064 - lr: 1.0000e-05 - 6s/epoch - 3ms/step\n",
      "Epoch 14/20\n",
      "\n",
      "Epoch 14: val_accuracy improved from 0.90640 to 0.90650, saving model to .\\LeNet5.hdf5\n",
      "1875/1875 - 6s - loss: 0.3671 - accuracy: 0.9023 - val_loss: 0.3502 - val_accuracy: 0.9065 - lr: 1.0000e-05 - 6s/epoch - 3ms/step\n",
      "Epoch 15/20\n",
      "\n",
      "Epoch 15: val_accuracy did not improve from 0.90650\n",
      "1875/1875 - 6s - loss: 0.3667 - accuracy: 0.9024 - val_loss: 0.3499 - val_accuracy: 0.9065 - lr: 1.0000e-05 - 6s/epoch - 3ms/step\n",
      "Epoch 16/20\n",
      "\n",
      "Epoch 16: val_accuracy improved from 0.90650 to 0.90660, saving model to .\\LeNet5.hdf5\n",
      "1875/1875 - 6s - loss: 0.3664 - accuracy: 0.9025 - val_loss: 0.3495 - val_accuracy: 0.9066 - lr: 1.0000e-05 - 6s/epoch - 3ms/step\n",
      "Epoch 17/20\n",
      "\n",
      "Epoch 17: val_accuracy improved from 0.90660 to 0.90690, saving model to .\\LeNet5.hdf5\n",
      "1875/1875 - 6s - loss: 0.3660 - accuracy: 0.9026 - val_loss: 0.3492 - val_accuracy: 0.9069 - lr: 1.0000e-05 - 6s/epoch - 3ms/step\n",
      "Epoch 18/20\n",
      "\n",
      "Epoch 18: val_accuracy did not improve from 0.90690\n",
      "1875/1875 - 6s - loss: 0.3657 - accuracy: 0.9026 - val_loss: 0.3489 - val_accuracy: 0.9069 - lr: 1.0000e-05 - 6s/epoch - 3ms/step\n",
      "Epoch 19/20\n",
      "\n",
      "Epoch 19: val_accuracy improved from 0.90690 to 0.90700, saving model to .\\LeNet5.hdf5\n",
      "1875/1875 - 6s - loss: 0.3654 - accuracy: 0.9027 - val_loss: 0.3485 - val_accuracy: 0.9070 - lr: 1.0000e-05 - 6s/epoch - 3ms/step\n",
      "Epoch 20/20\n",
      "\n",
      "Epoch 20: val_accuracy improved from 0.90700 to 0.90720, saving model to .\\LeNet5.hdf5\n",
      "1875/1875 - 6s - loss: 0.3650 - accuracy: 0.9027 - val_loss: 0.3482 - val_accuracy: 0.9072 - lr: 1.0000e-05 - 6s/epoch - 3ms/step\n"
     ]
    }
   ],
   "source": [
    "from keras.callbacks import ModelCheckpoint, LearningRateScheduler\n",
    "\n",
    "lr_scheduler=LearningRateScheduler(lr_schedule)\n",
    "checkpoint = ModelCheckpoint(filepath='./LeNet5.hdf5', monitor='val_accuracy', verbose=1, save_best_only=True)\n",
    "\n",
    "callbacks=[checkpoint, lr_scheduler]\n",
    "\n",
    "model.compile(loss='categorical_crossentropy', optimizer='sgd', metrics=['accuracy'])\n",
    "\n",
    "hist=model.fit(X_train, y_train, batch_size=32, epochs=20, validation_data=(X_test, y_test), callbacks=callbacks, verbose=2, shuffle=True)\n"
   ]
  },
  {
   "cell_type": "code",
   "execution_count": 23,
   "metadata": {},
   "outputs": [
    {
     "name": "stdout",
     "output_type": "stream",
     "text": [
      "Epoch 1/20\n",
      "\n",
      "Epoch 1: val_accuracy improved from -inf to 0.91310, saving model to .\\LeNet5_relu.hdf5\n",
      "1875/1875 - 7s - loss: 0.3350 - accuracy: 0.9045 - val_loss: 0.3010 - val_accuracy: 0.9131 - lr: 5.0000e-04 - 7s/epoch - 4ms/step\n",
      "Epoch 2/20\n",
      "\n",
      "Epoch 2: val_accuracy improved from 0.91310 to 0.92250, saving model to .\\LeNet5_relu.hdf5\n",
      "1875/1875 - 6s - loss: 0.3046 - accuracy: 0.9117 - val_loss: 0.2699 - val_accuracy: 0.9225 - lr: 5.0000e-04 - 6s/epoch - 3ms/step\n",
      "Epoch 3/20\n",
      "\n",
      "Epoch 3: val_accuracy improved from 0.92250 to 0.92710, saving model to .\\LeNet5_relu.hdf5\n",
      "1875/1875 - 6s - loss: 0.2817 - accuracy: 0.9187 - val_loss: 0.2546 - val_accuracy: 0.9271 - lr: 5.0000e-04 - 6s/epoch - 3ms/step\n",
      "Epoch 4/20\n",
      "\n",
      "Epoch 4: val_accuracy improved from 0.92710 to 0.92890, saving model to .\\LeNet5_relu.hdf5\n",
      "1875/1875 - 6s - loss: 0.2627 - accuracy: 0.9239 - val_loss: 0.2437 - val_accuracy: 0.9289 - lr: 2.0000e-04 - 6s/epoch - 3ms/step\n",
      "Epoch 5/20\n",
      "\n",
      "Epoch 5: val_accuracy improved from 0.92890 to 0.93130, saving model to .\\LeNet5_relu.hdf5\n",
      "1875/1875 - 6s - loss: 0.2555 - accuracy: 0.9261 - val_loss: 0.2365 - val_accuracy: 0.9313 - lr: 2.0000e-04 - 6s/epoch - 3ms/step\n",
      "Epoch 6/20\n",
      "\n",
      "Epoch 6: val_accuracy improved from 0.93130 to 0.93190, saving model to .\\LeNet5_relu.hdf5\n",
      "1875/1875 - 6s - loss: 0.2489 - accuracy: 0.9281 - val_loss: 0.2298 - val_accuracy: 0.9319 - lr: 2.0000e-04 - 6s/epoch - 3ms/step\n",
      "Epoch 7/20\n",
      "\n",
      "Epoch 7: val_accuracy improved from 0.93190 to 0.93440, saving model to .\\LeNet5_relu.hdf5\n",
      "1875/1875 - 6s - loss: 0.2425 - accuracy: 0.9301 - val_loss: 0.2271 - val_accuracy: 0.9344 - lr: 5.0000e-05 - 6s/epoch - 3ms/step\n",
      "Epoch 8/20\n",
      "\n",
      "Epoch 8: val_accuracy improved from 0.93440 to 0.93530, saving model to .\\LeNet5_relu.hdf5\n",
      "1875/1875 - 6s - loss: 0.2407 - accuracy: 0.9310 - val_loss: 0.2261 - val_accuracy: 0.9353 - lr: 5.0000e-05 - 6s/epoch - 3ms/step\n",
      "Epoch 9/20\n",
      "\n",
      "Epoch 9: val_accuracy improved from 0.93530 to 0.93560, saving model to .\\LeNet5_relu.hdf5\n",
      "1875/1875 - 6s - loss: 0.2392 - accuracy: 0.9308 - val_loss: 0.2238 - val_accuracy: 0.9356 - lr: 5.0000e-05 - 6s/epoch - 3ms/step\n",
      "Epoch 10/20\n",
      "\n",
      "Epoch 10: val_accuracy improved from 0.93560 to 0.93590, saving model to .\\LeNet5_relu.hdf5\n",
      "1875/1875 - 6s - loss: 0.2376 - accuracy: 0.9312 - val_loss: 0.2232 - val_accuracy: 0.9359 - lr: 5.0000e-05 - 6s/epoch - 3ms/step\n",
      "Epoch 11/20\n",
      "\n",
      "Epoch 11: val_accuracy improved from 0.93590 to 0.93670, saving model to .\\LeNet5_relu.hdf5\n",
      "1875/1875 - 7s - loss: 0.2361 - accuracy: 0.9318 - val_loss: 0.2225 - val_accuracy: 0.9367 - lr: 1.0000e-05 - 7s/epoch - 4ms/step\n",
      "Epoch 12/20\n",
      "\n",
      "Epoch 12: val_accuracy did not improve from 0.93670\n",
      "1875/1875 - 7s - loss: 0.2357 - accuracy: 0.9319 - val_loss: 0.2219 - val_accuracy: 0.9364 - lr: 1.0000e-05 - 7s/epoch - 4ms/step\n",
      "Epoch 13/20\n",
      "\n",
      "Epoch 13: val_accuracy did not improve from 0.93670\n",
      "1875/1875 - 7s - loss: 0.2354 - accuracy: 0.9323 - val_loss: 0.2220 - val_accuracy: 0.9364 - lr: 1.0000e-05 - 7s/epoch - 4ms/step\n",
      "Epoch 14/20\n",
      "\n",
      "Epoch 14: val_accuracy did not improve from 0.93670\n",
      "1875/1875 - 7s - loss: 0.2351 - accuracy: 0.9321 - val_loss: 0.2213 - val_accuracy: 0.9366 - lr: 1.0000e-05 - 7s/epoch - 4ms/step\n",
      "Epoch 15/20\n",
      "\n",
      "Epoch 15: val_accuracy did not improve from 0.93670\n",
      "1875/1875 - 7s - loss: 0.2348 - accuracy: 0.9323 - val_loss: 0.2210 - val_accuracy: 0.9362 - lr: 1.0000e-05 - 7s/epoch - 4ms/step\n",
      "Epoch 16/20\n",
      "\n",
      "Epoch 16: val_accuracy improved from 0.93670 to 0.93710, saving model to .\\LeNet5_relu.hdf5\n",
      "1875/1875 - 7s - loss: 0.2345 - accuracy: 0.9324 - val_loss: 0.2209 - val_accuracy: 0.9371 - lr: 1.0000e-05 - 7s/epoch - 4ms/step\n",
      "Epoch 17/20\n",
      "\n",
      "Epoch 17: val_accuracy did not improve from 0.93710\n",
      "1875/1875 - 7s - loss: 0.2342 - accuracy: 0.9324 - val_loss: 0.2207 - val_accuracy: 0.9368 - lr: 1.0000e-05 - 7s/epoch - 3ms/step\n",
      "Epoch 18/20\n",
      "\n",
      "Epoch 18: val_accuracy did not improve from 0.93710\n",
      "1875/1875 - 6s - loss: 0.2339 - accuracy: 0.9324 - val_loss: 0.2202 - val_accuracy: 0.9371 - lr: 1.0000e-05 - 6s/epoch - 3ms/step\n",
      "Epoch 19/20\n",
      "\n",
      "Epoch 19: val_accuracy improved from 0.93710 to 0.93720, saving model to .\\LeNet5_relu.hdf5\n",
      "1875/1875 - 6s - loss: 0.2337 - accuracy: 0.9326 - val_loss: 0.2199 - val_accuracy: 0.9372 - lr: 1.0000e-05 - 6s/epoch - 3ms/step\n",
      "Epoch 20/20\n",
      "\n",
      "Epoch 20: val_accuracy did not improve from 0.93720\n",
      "1875/1875 - 6s - loss: 0.2333 - accuracy: 0.9329 - val_loss: 0.2197 - val_accuracy: 0.9370 - lr: 1.0000e-05 - 6s/epoch - 3ms/step\n"
     ]
    }
   ],
   "source": [
    "model_relu.compile(loss='categorical_crossentropy', optimizer='sgd', metrics=['accuracy'])\n",
    "\n",
    "checkpoint_relu = ModelCheckpoint(filepath='./LeNet5_relu.hdf5', monitor='val_accuracy', verbose=1, save_best_only=True)\n",
    "\n",
    "callbacks_relu=[checkpoint_relu, lr_scheduler]\n",
    "\n",
    "hist_relu=model_relu.fit(X_train, y_train, batch_size=32, epochs=20, validation_data=(X_test, y_test), callbacks=callbacks_relu, verbose=2, shuffle=True)"
   ]
  },
  {
   "cell_type": "code",
   "execution_count": 24,
   "metadata": {},
   "outputs": [
    {
     "name": "stdout",
     "output_type": "stream",
     "text": [
      "Test accuracy: 91.0500%\n"
     ]
    }
   ],
   "source": [
    "# evaluate test accuracy\n",
    "score = model.evaluate(X_test, y_test, verbose=0)\n",
    "accuracy = 100*score[1]\n",
    "\n",
    "# print test accuracy\n",
    "print('Test accuracy: %.4f%%' % accuracy)\n"
   ]
  },
  {
   "cell_type": "code",
   "execution_count": 25,
   "metadata": {},
   "outputs": [
    {
     "name": "stdout",
     "output_type": "stream",
     "text": [
      "Test accuracy: 93.7000%\n"
     ]
    }
   ],
   "source": [
    "score = model_relu.evaluate(X_test, y_test, verbose=0)\n",
    "accuracy = 100*score[1]\n",
    "\n",
    "print('Test accuracy: %.4f%%'% accuracy)"
   ]
  },
  {
   "cell_type": "code",
   "execution_count": 26,
   "metadata": {},
   "outputs": [
    {
     "data": {
      "image/png": "[encoded data removed]",
      "text/plain": [
       "<Figure size 432x288 with 1 Axes>"
      ]
     },
     "metadata": {
      "needs_background": "light"
     },
     "output_type": "display_data"
    }
   ],
   "source": [
    "\n",
    "import matplotlib.pyplot as plt\n",
    "\n",
    "f, ax = plt.subplots()\n",
    "ax.plot([None] + hist.history['accuracy'], 'o-')\n",
    "ax.plot([None] + hist.history['val_accuracy'], 'x-')\n",
    "# Plot legend and use the best location automatically: loc = 0.\n",
    "ax.legend(['Train acc', 'Validation acc'], loc = 0)\n",
    "ax.set_title('Training/Validation acc per Epoch')\n",
    "ax.set_xlabel('Epoch')\n",
    "ax.set_ylabel('acc')\n",
    "plt.show()\n"
   ]
  },
  {
   "cell_type": "code",
   "execution_count": 27,
   "metadata": {},
   "outputs": [
    {
     "data": {
      "image/png": "[encoded data removed]",
      "text/plain": [
       "<Figure size 432x288 with 1 Axes>"
      ]
     },
     "metadata": {
      "needs_background": "light"
     },
     "output_type": "display_data"
    }
   ],
   "source": [
    "import matplotlib.pyplot as plt\n",
    "\n",
    "f, ax = plt.subplots()\n",
    "ax.plot([None] + hist.history['loss'], 'o-')\n",
    "ax.plot([None] + hist.history['val_loss'], 'x-')\n",
    "\n",
    "# Plot legend and use the best location automatically: loc = 0.\n",
    "ax.legend(['Train loss', \"Val loss\"], loc = 0)\n",
    "ax.set_title('Training/Validation Loss per Epoch')\n",
    "ax.set_xlabel('Epoch')\n",
    "ax.set_ylabel('Loss')\n",
    "plt.show()\n"
   ]
  },
  {
   "cell_type": "code",
   "execution_count": 28,
   "metadata": {},
   "outputs": [
    {
     "data": {
      "image/png": "[encoded data removed]",
      "text/plain": [
       "<Figure size 432x288 with 1 Axes>"
      ]
     },
     "metadata": {
      "needs_background": "light"
     },
     "output_type": "display_data"
    }
   ],
   "source": [
    "\n",
    "import matplotlib.pyplot as plt\n",
    "\n",
    "f, ax = plt.subplots()\n",
    "ax.plot([None] + hist_relu.history['accuracy'], 'o-')\n",
    "ax.plot([None] + hist_relu.history['val_accuracy'], 'x-')\n",
    "# Plot legend and use the best location automatically: loc = 0.\n",
    "ax.legend(['Train acc', 'Validation acc'], loc = 0)\n",
    "ax.set_title('Training/Validation acc per Epoch')\n",
    "ax.set_xlabel('Epoch')\n",
    "ax.set_ylabel('acc')\n",
    "plt.show()\n"
   ]
  },
  {
   "cell_type": "code",
   "execution_count": 29,
   "metadata": {},
   "outputs": [
    {
     "data": {
      "image/png": "[encoded data removed]",
      "text/plain": [
       "<Figure size 432x288 with 1 Axes>"
      ]
     },
     "metadata": {
      "needs_background": "light"
     },
     "output_type": "display_data"
    }
   ],
   "source": [
    "import matplotlib.pyplot as plt\n",
    "\n",
    "f, ax = plt.subplots()\n",
    "ax.plot([None] + hist_relu.history['loss'], 'o-')\n",
    "ax.plot([None] + hist_relu.history['val_loss'], 'x-')\n",
    "\n",
    "# Plot legend and use the best location automatically: loc = 0.\n",
    "ax.legend(['Train loss', \"Val loss\"], loc = 0)\n",
    "ax.set_title('Training/Validation Loss per Epoch')\n",
    "ax.set_xlabel('Epoch')\n",
    "ax.set_ylabel('Loss')\n",
    "plt.show()\n"
   ]
  },
  {
   "cell_type": "code",
   "execution_count": null,
   "metadata": {},
   "outputs": [],
   "source": []
  }
 ],
 "metadata": {
  "kernelspec": {
   "display_name": "Python 3.9.12 ('base')",
   "language": "python",
   "name": "python3"
  },
  "language_info": {
   "codemirror_mode": {
    "name": "ipython",
    "version": 3
   },
   "file_extension": ".py",
   "mimetype": "text/x-python",
   "name": "python",
   "nbconvert_exporter": "python",
   "pygments_lexer": "ipython3",
   "version": "3.9.12"
  },
  "orig_nbformat": 4,
  "vscode": {
   "interpreter": {
    "hash": "fe7e35a9f2f3de21f54100d33f4f30d27a89ac45856d743fc93d9d66411222da"
   }
  }
 },
 "nbformat": 4,
 "nbformat_minor": 2
}
