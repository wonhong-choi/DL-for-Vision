{
 "cells": [
  {
   "cell_type": "code",
   "execution_count": 9,
   "metadata": {},
   "outputs": [],
   "source": [
    "import keras\n",
    "from keras import initializers\n",
    "from keras.optimizers import SGD\n",
    "from keras.models import Model\n",
    "from keras.layers import Conv2D, MaxPooling2D, concatenate, Input, BatchNormalization, AveragePooling2D, Dropout,Dense\n",
    "from keras.callbacks import LearningRateScheduler\n"
   ]
  },
  {
   "cell_type": "code",
   "execution_count": 10,
   "metadata": {},
   "outputs": [],
   "source": [
    "def inception_module(x, filters_1x1, filters_3x3_reduce, filters_3x3, filters_5x5_reduce, filters_5x5,\\\n",
    "     filters_pool_proj, kernel_init, bias_init, name=None):\n",
    "    \n",
    "    # conv 1x1\n",
    "    conv_1x1 = Conv2D(filters_1x1, kernel_size=(1,1), padding='same', activation='relu', kernel_initializer=kernel_init, bias_initializer=bias_init)(x)\n",
    "\n",
    "    # conv 1x1 + conv3x3\n",
    "    pre_conv_3x3 = Conv2D(filters_3x3_reduce, kernel_size=(1,1), padding='same', activation='relu', kernel_initializer=kernel_init, bias_initializer=bias_init)(x)\n",
    "    conv_3x3 = Conv2D(filters_3x3, kernel_size=(3,3), padding='same', activation='relu', kernel_initializer=kernel_init, bias_initializer=bias_init)(pre_conv_3x3)\n",
    "\n",
    "    # conv 1x1 + conv5x5\n",
    "    pre_conv_5x5 = Conv2D(filters_5x5_reduce, kernel_size=(1,1), padding='same', activation='relu', kernel_initializer=kernel_init, bias_initializer=bias_init)(x)\n",
    "    conv_5x5 = Conv2D(filters_5x5, kernel_size=(5,5), padding='same', activation='relu', kernel_initializer=kernel_init, bias_initializer=bias_init)(pre_conv_3x3)\n",
    "\n",
    "    # pool + conv 1x1\n",
    "    pool_proj=MaxPooling2D((3,3), strides=(1,1), padding='same')(x)\n",
    "    pool_proj=Conv2D(filters_pool_proj, kernel_size=(1,1), padding='same', activation='relu', kernel_initializer=kernel_init, bias_initializer=bias_init)(pool_proj)\n",
    "\n",
    "    output=concatenate([conv_1x1, conv_3x3, conv_5x5, pool_proj], axis=3, name=name)\n",
    "    return output"
   ]
  },
  {
   "cell_type": "code",
   "execution_count": 13,
   "metadata": {},
   "outputs": [],
   "source": [
    "def googLeNet():\n",
    "    kernel_init = initializers.glorot_uniform()\n",
    "    bias_init = initializers.Constant(value=0.2)\n",
    "\n",
    "    # part A : \n",
    "    input_layer=Input((224,224,3))\n",
    "    x=Conv2D(64, (7,7), padding='same', strides=(2,2), activation='relu', name='conv_1', kernel_initializer=kernel_init, bias_initializer=bias_init)(input_layer)\n",
    "\n",
    "    x=MaxPooling2D((3,3), strides=(2,2), padding='same', name='max_pool_2')(x)\n",
    "\n",
    "    x= BatchNormalization()(x)\n",
    "\n",
    "    x=Conv2D(64, (1,1), (1,1), 'same', activation='relu')(x)\n",
    "    x=Conv2D(192, (3,3), (1,1), 'same', activation='relu')(x)\n",
    "    x= BatchNormalization()(x)\n",
    "    x=MaxPooling2D((3,3), (2,2), 'same')(x)\n",
    "\n",
    "    # part B\n",
    "    x=inception_module(x, 64, 96, 128, 16, 32, 32, kernel_init, bias_init, name='inception_3a')\n",
    "    x=inception_module(x, 128, 128, 192, 32, 96, 64, kernel_init, bias_init, name='inception_3b')\n",
    "\n",
    "    x=inception_module(x, 192, 96, 208, 16, 48, 64, kernel_init, bias_init, name='inception_4a')\n",
    "    x=inception_module(x, 160, 112, 224, 24, 64, 64, kernel_init, bias_init, name='inception_4b')\n",
    "    x=inception_module(x, 128, 128, 256, 24, 64, 64, kernel_init, bias_init, name='inception_4c')\n",
    "    x=inception_module(x, 112, 144, 288, 32, 64, 64, kernel_init, bias_init, name='inception_4d')\n",
    "    x=inception_module(x, 256, 160, 320, 32, 128, 128, kernel_init, bias_init, name='inception_4e')\n",
    "    \n",
    "    x= MaxPooling2D((3,3), (2,2), 'same', name='max_pool_4')(x)\n",
    "\n",
    "    x=inception_module(x, 256, 160, 320, 32, 128, 128, kernel_init, bias_init, name='inception_5a')\n",
    "    x=inception_module(x, 384, 192, 384, 48, 128, 128, kernel_init, bias_init, name='inception_5b')\n",
    "\n",
    "    # part C\n",
    "    x=AveragePooling2D((7,7), 1, 'valid')(x)\n",
    "    x=Dropout(0.4)(x)\n",
    "    output=Dense(10, 'softmax', name='output')(x)\n",
    "\n",
    "    model = Model(inputs=input_layer, outputs=output)\n",
    "\n",
    "    return model"
   ]
  },
  {
   "cell_type": "code",
   "execution_count": 14,
   "metadata": {},
   "outputs": [],
   "source": [
    "import math\n",
    "# train\n",
    "\n",
    "epochs =25\n",
    "initial_lrate =0.01\n",
    "\n",
    "def decay(epoch, steps=100):\n",
    "    initial_lrate=0.01\n",
    "    drop=0.96\n",
    "    epochs_drop=8\n",
    "\n",
    "    lrate=initial_lrate * math.pow(drop, math.floor((1+epoch)/epochs_drop))\n",
    "    return lrate\n",
    "\n",
    "lr_schedule = LearningRateScheduler(decay, verbose=1)\n",
    "\n",
    "sgd= SGD(lr=initial_lrate, momentum=0.9, nesterov=False)\n",
    "\n",
    "model=googLeNet()\n",
    "model.compile(loss='categorical_crossentropy', optimizer=sgd, metrics=['accuracy'])"
   ]
  },
  {
   "cell_type": "code",
   "execution_count": null,
   "metadata": {},
   "outputs": [],
   "source": []
  }
 ],
 "metadata": {
  "kernelspec": {
   "display_name": "base",
   "language": "python",
   "name": "python3"
  },
  "language_info": {
   "codemirror_mode": {
    "name": "ipython",
    "version": 3
   },
   "file_extension": ".py",
   "mimetype": "text/x-python",
   "name": "python",
   "nbconvert_exporter": "python",
   "pygments_lexer": "ipython3",
   "version": "3.9.12"
  },
  "orig_nbformat": 4,
  "vscode": {
   "interpreter": {
    "hash": "fe7e35a9f2f3de21f54100d33f4f30d27a89ac45856d743fc93d9d66411222da"
   }
  }
 },
 "nbformat": 4,
 "nbformat_minor": 2
}
