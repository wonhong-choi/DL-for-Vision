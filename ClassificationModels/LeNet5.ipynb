{
 "cells": [
  {
   "cell_type": "markdown",
   "metadata": {},
   "source": [
    "# Data"
   ]
  },
  {
   "cell_type": "code",
   "execution_count": 1,
   "metadata": {},
   "outputs": [],
   "source": [
    "from keras.datasets import mnist\n",
    "from keras.utils import np_utils\n",
    "import numpy as np\n",
    "\n",
    "(X_train, y_train), (X_test, y_test) = mnist.load_data()\n",
    "\n",
    "mean=np.mean(X_train)\n",
    "std =np.std(X_train)\n",
    "\n",
    "# normalize\n",
    "X_train = (X_train-mean)/(std+1e-7)\n",
    "X_test = (X_test-mean)/(std+1e-7)\n",
    "\n",
    "# one hot\n",
    "num_classes=10\n",
    "y_train=np_utils.to_categorical(y_train, num_classes)\n",
    "y_test = np_utils.to_categorical(y_test, num_classes)\n",
    "\n",
    "# reshape\n",
    "X_train = X_train.reshape(X_train.shape[0], X_train.shape[1], X_train.shape[2], 1)\n",
    "X_test = X_test.reshape(X_test.shape[0], X_test.shape[1], X_test.shape[2], 1)"
   ]
  },
  {
   "cell_type": "markdown",
   "metadata": {},
   "source": [
    "# Model"
   ]
  },
  {
   "cell_type": "code",
   "execution_count": 2,
   "metadata": {},
   "outputs": [],
   "source": [
    "from keras.models import Sequential\n",
    "from keras.layers import Conv2D, AveragePooling2D, Flatten, Dense\n",
    "\n",
    "def LeNet5():\n",
    "    model = Sequential()\n",
    "\n",
    "    # Conv1\n",
    "    model.add(Conv2D(6, kernel_size=5, strides=1, activation='tanh', padding='same', input_shape=(28,28,1)))\n",
    "    \n",
    "    # AvgPool2\n",
    "    model.add(AveragePooling2D(pool_size=2, strides=2, padding='valid')) # valid == no padding\n",
    "\n",
    "    # Conv3\n",
    "    model.add(Conv2D(filters=16, kernel_size=5, strides=1, activation='tanh', padding='valid'))\n",
    "\n",
    "    # AvgPool4\n",
    "    model.add(AveragePooling2D(pool_size=2, strides=2, padding='valid'))\n",
    "    \n",
    "    # Conv5\n",
    "    model.add(Conv2D(120, kernel_size=5, strides=1, activation='tanh', padding='valid'))\n",
    "\n",
    "    model.add(Flatten())\n",
    "\n",
    "    # FC6\n",
    "    model.add(Dense(units=84, activation='tanh'))\n",
    "\n",
    "    # FC7\n",
    "    model.add(Dense(units=10, activation='softmax'))\n",
    "\n",
    "    return model"
   ]
  },
  {
   "cell_type": "code",
   "execution_count": 3,
   "metadata": {},
   "outputs": [],
   "source": [
    "def LeNet5_relu():\n",
    "    model = Sequential()\n",
    "\n",
    "    # Conv1\n",
    "    model.add(Conv2D(6, kernel_size=5, strides=1, activation='relu', padding='same', input_shape=(28,28,1)))\n",
    "    \n",
    "    # AvgPool2\n",
    "    model.add(AveragePooling2D(pool_size=2, strides=2, padding='valid')) # valid == no padding\n",
    "\n",
    "    # Conv3\n",
    "    model.add(Conv2D(filters=16, kernel_size=5, strides=1, activation='relu', padding='valid'))\n",
    "\n",
    "    # AvgPool4\n",
    "    model.add(AveragePooling2D(pool_size=2, strides=2, padding='valid'))\n",
    "    \n",
    "    # Conv5\n",
    "    model.add(Conv2D(120, kernel_size=5, strides=1, activation='relu', padding='valid'))\n",
    "\n",
    "    model.add(Flatten())\n",
    "\n",
    "    # FC6\n",
    "    model.add(Dense(units=84, activation='relu'))\n",
    "\n",
    "    # FC7\n",
    "    model.add(Dense(units=10, activation='softmax'))\n",
    "\n",
    "    return model"
   ]
  },
  {
   "cell_type": "code",
   "execution_count": 4,
   "metadata": {},
   "outputs": [
    {
     "name": "stdout",
     "output_type": "stream",
     "text": [
      "Model: \"sequential\"\n",
      "_________________________________________________________________\n",
      " Layer (type)                Output Shape              Param #   \n",
      "=================================================================\n",
      " conv2d (Conv2D)             (None, 28, 28, 6)         156       \n",
      "                                                                 \n",
      " average_pooling2d (AverageP  (None, 14, 14, 6)        0         \n",
      " ooling2D)                                                       \n",
      "                                                                 \n",
      " conv2d_1 (Conv2D)           (None, 10, 10, 16)        2416      \n",
      "                                                                 \n",
      " average_pooling2d_1 (Averag  (None, 5, 5, 16)         0         \n",
      " ePooling2D)                                                     \n",
      "                                                                 \n",
      " conv2d_2 (Conv2D)           (None, 1, 1, 120)         48120     \n",
      "                                                                 \n",
      " flatten (Flatten)           (None, 120)               0         \n",
      "                                                                 \n",
      " dense (Dense)               (None, 84)                10164     \n",
      "                                                                 \n",
      " dense_1 (Dense)             (None, 10)                850       \n",
      "                                                                 \n",
      "=================================================================\n",
      "Total params: 61,706\n",
      "Trainable params: 61,706\n",
      "Non-trainable params: 0\n",
      "_________________________________________________________________\n"
     ]
    }
   ],
   "source": [
    "model=LeNet5()\n",
    "model.summary()"
   ]
  },
  {
   "cell_type": "code",
   "execution_count": 5,
   "metadata": {},
   "outputs": [
    {
     "name": "stdout",
     "output_type": "stream",
     "text": [
      "Model: \"sequential_1\"\n",
      "_________________________________________________________________\n",
      " Layer (type)                Output Shape              Param #   \n",
      "=================================================================\n",
      " conv2d_3 (Conv2D)           (None, 28, 28, 6)         156       \n",
      "                                                                 \n",
      " average_pooling2d_2 (Averag  (None, 14, 14, 6)        0         \n",
      " ePooling2D)                                                     \n",
      "                                                                 \n",
      " conv2d_4 (Conv2D)           (None, 10, 10, 16)        2416      \n",
      "                                                                 \n",
      " average_pooling2d_3 (Averag  (None, 5, 5, 16)         0         \n",
      " ePooling2D)                                                     \n",
      "                                                                 \n",
      " conv2d_5 (Conv2D)           (None, 1, 1, 120)         48120     \n",
      "                                                                 \n",
      " flatten_1 (Flatten)         (None, 120)               0         \n",
      "                                                                 \n",
      " dense_2 (Dense)             (None, 84)                10164     \n",
      "                                                                 \n",
      " dense_3 (Dense)             (None, 10)                850       \n",
      "                                                                 \n",
      "=================================================================\n",
      "Total params: 61,706\n",
      "Trainable params: 61,706\n",
      "Non-trainable params: 0\n",
      "_________________________________________________________________\n"
     ]
    }
   ],
   "source": [
    "model_relu=LeNet5_relu()\n",
    "model_relu.summary()"
   ]
  },
  {
   "cell_type": "markdown",
   "metadata": {},
   "source": [
    "# Train"
   ]
  },
  {
   "cell_type": "code",
   "execution_count": 6,
   "metadata": {},
   "outputs": [],
   "source": [
    "def lr_schedule(epoch):\n",
    "    if epoch <=2:\n",
    "        return 5e-4\n",
    "    elif epoch <=5:\n",
    "        return 2e-4\n",
    "    elif epoch <=9:\n",
    "        return 5e-5\n",
    "    return 1e-5"
   ]
  },
  {
   "cell_type": "code",
   "execution_count": 7,
   "metadata": {},
   "outputs": [
    {
     "name": "stdout",
     "output_type": "stream",
     "text": [
      "Epoch 1/20\n",
      "\n",
      "Epoch 1: val_accuracy improved from -inf to 0.73590, saving model to .\\LeNet5.hdf5\n",
      "1875/1875 - 20s - loss: 1.7672 - accuracy: 0.5516 - val_loss: 1.2397 - val_accuracy: 0.7359 - lr: 5.0000e-04 - 20s/epoch - 10ms/step\n",
      "Epoch 2/20\n",
      "\n",
      "Epoch 2: val_accuracy improved from 0.73590 to 0.81530, saving model to .\\LeNet5.hdf5\n",
      "1875/1875 - 7s - loss: 0.9969 - accuracy: 0.7711 - val_loss: 0.7999 - val_accuracy: 0.8153 - lr: 5.0000e-04 - 7s/epoch - 3ms/step\n",
      "Epoch 3/20\n",
      "\n",
      "Epoch 3: val_accuracy improved from 0.81530 to 0.85230, saving model to .\\LeNet5.hdf5\n",
      "1875/1875 - 6s - loss: 0.7193 - accuracy: 0.8260 - val_loss: 0.6262 - val_accuracy: 0.8523 - lr: 5.0000e-04 - 6s/epoch - 3ms/step\n",
      "Epoch 4/20\n",
      "\n",
      "Epoch 4: val_accuracy improved from 0.85230 to 0.85990, saving model to .\\LeNet5.hdf5\n",
      "1875/1875 - 7s - loss: 0.6197 - accuracy: 0.8474 - val_loss: 0.5828 - val_accuracy: 0.8599 - lr: 2.0000e-04 - 7s/epoch - 4ms/step\n",
      "Epoch 5/20\n",
      "\n",
      "Epoch 5: val_accuracy improved from 0.85990 to 0.86770, saving model to .\\LeNet5.hdf5\n",
      "1875/1875 - 6s - loss: 0.5804 - accuracy: 0.8554 - val_loss: 0.5477 - val_accuracy: 0.8677 - lr: 2.0000e-04 - 6s/epoch - 3ms/step\n",
      "Epoch 6/20\n",
      "\n",
      "Epoch 6: val_accuracy improved from 0.86770 to 0.87280, saving model to .\\LeNet5.hdf5\n",
      "1875/1875 - 7s - loss: 0.5482 - accuracy: 0.8618 - val_loss: 0.5185 - val_accuracy: 0.8728 - lr: 2.0000e-04 - 7s/epoch - 3ms/step\n",
      "Epoch 7/20\n",
      "\n",
      "Epoch 7: val_accuracy improved from 0.87280 to 0.87370, saving model to .\\LeNet5.hdf5\n",
      "1875/1875 - 6s - loss: 0.5305 - accuracy: 0.8657 - val_loss: 0.5120 - val_accuracy: 0.8737 - lr: 5.0000e-05 - 6s/epoch - 3ms/step\n",
      "Epoch 8/20\n",
      "\n",
      "Epoch 8: val_accuracy improved from 0.87370 to 0.87460, saving model to .\\LeNet5.hdf5\n",
      "1875/1875 - 6s - loss: 0.5241 - accuracy: 0.8673 - val_loss: 0.5057 - val_accuracy: 0.8746 - lr: 5.0000e-05 - 6s/epoch - 3ms/step\n",
      "Epoch 9/20\n",
      "\n",
      "Epoch 9: val_accuracy improved from 0.87460 to 0.87580, saving model to .\\LeNet5.hdf5\n",
      "1875/1875 - 6s - loss: 0.5179 - accuracy: 0.8684 - val_loss: 0.4997 - val_accuracy: 0.8758 - lr: 5.0000e-05 - 6s/epoch - 3ms/step\n",
      "Epoch 10/20\n",
      "\n",
      "Epoch 10: val_accuracy improved from 0.87580 to 0.87710, saving model to .\\LeNet5.hdf5\n",
      "1875/1875 - 7s - loss: 0.5119 - accuracy: 0.8695 - val_loss: 0.4939 - val_accuracy: 0.8771 - lr: 5.0000e-05 - 7s/epoch - 4ms/step\n",
      "Epoch 11/20\n",
      "\n",
      "Epoch 11: val_accuracy improved from 0.87710 to 0.87750, saving model to .\\LeNet5.hdf5\n",
      "1875/1875 - 6s - loss: 0.5084 - accuracy: 0.8702 - val_loss: 0.4928 - val_accuracy: 0.8775 - lr: 1.0000e-05 - 6s/epoch - 3ms/step\n",
      "Epoch 12/20\n",
      "\n",
      "Epoch 12: val_accuracy improved from 0.87750 to 0.87770, saving model to .\\LeNet5.hdf5\n",
      "1875/1875 - 6s - loss: 0.5073 - accuracy: 0.8706 - val_loss: 0.4916 - val_accuracy: 0.8777 - lr: 1.0000e-05 - 6s/epoch - 3ms/step\n",
      "Epoch 13/20\n",
      "\n",
      "Epoch 13: val_accuracy improved from 0.87770 to 0.87790, saving model to .\\LeNet5.hdf5\n",
      "1875/1875 - 6s - loss: 0.5061 - accuracy: 0.8708 - val_loss: 0.4905 - val_accuracy: 0.8779 - lr: 1.0000e-05 - 6s/epoch - 3ms/step\n",
      "Epoch 14/20\n",
      "\n",
      "Epoch 14: val_accuracy improved from 0.87790 to 0.87820, saving model to .\\LeNet5.hdf5\n",
      "1875/1875 - 6s - loss: 0.5050 - accuracy: 0.8711 - val_loss: 0.4894 - val_accuracy: 0.8782 - lr: 1.0000e-05 - 6s/epoch - 3ms/step\n",
      "Epoch 15/20\n",
      "\n",
      "Epoch 15: val_accuracy improved from 0.87820 to 0.87840, saving model to .\\LeNet5.hdf5\n",
      "1875/1875 - 7s - loss: 0.5039 - accuracy: 0.8713 - val_loss: 0.4883 - val_accuracy: 0.8784 - lr: 1.0000e-05 - 7s/epoch - 4ms/step\n",
      "Epoch 16/20\n",
      "\n",
      "Epoch 16: val_accuracy improved from 0.87840 to 0.87860, saving model to .\\LeNet5.hdf5\n",
      "1875/1875 - 6s - loss: 0.5028 - accuracy: 0.8715 - val_loss: 0.4872 - val_accuracy: 0.8786 - lr: 1.0000e-05 - 6s/epoch - 3ms/step\n",
      "Epoch 17/20\n",
      "\n",
      "Epoch 17: val_accuracy improved from 0.87860 to 0.87890, saving model to .\\LeNet5.hdf5\n",
      "1875/1875 - 6s - loss: 0.5017 - accuracy: 0.8718 - val_loss: 0.4861 - val_accuracy: 0.8789 - lr: 1.0000e-05 - 6s/epoch - 3ms/step\n",
      "Epoch 18/20\n",
      "\n",
      "Epoch 18: val_accuracy improved from 0.87890 to 0.87900, saving model to .\\LeNet5.hdf5\n",
      "1875/1875 - 6s - loss: 0.5006 - accuracy: 0.8720 - val_loss: 0.4851 - val_accuracy: 0.8790 - lr: 1.0000e-05 - 6s/epoch - 3ms/step\n",
      "Epoch 19/20\n",
      "\n",
      "Epoch 19: val_accuracy improved from 0.87900 to 0.87970, saving model to .\\LeNet5.hdf5\n",
      "1875/1875 - 6s - loss: 0.4995 - accuracy: 0.8723 - val_loss: 0.4840 - val_accuracy: 0.8797 - lr: 1.0000e-05 - 6s/epoch - 3ms/step\n",
      "Epoch 20/20\n",
      "\n",
      "Epoch 20: val_accuracy improved from 0.87970 to 0.88000, saving model to .\\LeNet5.hdf5\n",
      "1875/1875 - 6s - loss: 0.4985 - accuracy: 0.8725 - val_loss: 0.4829 - val_accuracy: 0.8800 - lr: 1.0000e-05 - 6s/epoch - 3ms/step\n"
     ]
    }
   ],
   "source": [
    "from keras.callbacks import ModelCheckpoint, LearningRateScheduler\n",
    "\n",
    "lr_scheduler=LearningRateScheduler(lr_schedule)\n",
    "checkpoint = ModelCheckpoint(filepath='./LeNet5.hdf5', monitor='val_accuracy', verbose=1, save_best_only=True)\n",
    "\n",
    "callbacks=[checkpoint, lr_scheduler]\n",
    "\n",
    "model.compile(loss='categorical_crossentropy', optimizer='sgd', metrics=['accuracy'])\n",
    "\n",
    "hist=model.fit(X_train, y_train, batch_size=32, epochs=20, validation_data=(X_test, y_test), callbacks=callbacks, verbose=2, shuffle=True)\n"
   ]
  },
  {
   "cell_type": "code",
   "execution_count": 8,
   "metadata": {},
   "outputs": [
    {
     "name": "stdout",
     "output_type": "stream",
     "text": [
      "Epoch 1/20\n",
      "\n",
      "Epoch 1: val_accuracy improved from -inf to 0.22550, saving model to .\\LeNet5_relu.hdf5\n",
      "1875/1875 - 8s - loss: 2.2858 - accuracy: 0.1437 - val_loss: 2.2551 - val_accuracy: 0.2255 - lr: 5.0000e-04 - 8s/epoch - 4ms/step\n",
      "Epoch 2/20\n",
      "\n",
      "Epoch 2: val_accuracy improved from 0.22550 to 0.62940, saving model to .\\LeNet5_relu.hdf5\n",
      "1875/1875 - 6s - loss: 2.1072 - accuracy: 0.3937 - val_loss: 1.7010 - val_accuracy: 0.6294 - lr: 5.0000e-04 - 6s/epoch - 3ms/step\n",
      "Epoch 3/20\n",
      "\n",
      "Epoch 3: val_accuracy improved from 0.62940 to 0.84350, saving model to .\\LeNet5_relu.hdf5\n",
      "1875/1875 - 7s - loss: 0.9622 - accuracy: 0.7635 - val_loss: 0.5538 - val_accuracy: 0.8435 - lr: 5.0000e-04 - 7s/epoch - 4ms/step\n",
      "Epoch 4/20\n",
      "\n",
      "Epoch 4: val_accuracy improved from 0.84350 to 0.86270, saving model to .\\LeNet5_relu.hdf5\n",
      "1875/1875 - 6s - loss: 0.5406 - accuracy: 0.8461 - val_loss: 0.4785 - val_accuracy: 0.8627 - lr: 2.0000e-04 - 6s/epoch - 3ms/step\n",
      "Epoch 5/20\n",
      "\n",
      "Epoch 5: val_accuracy improved from 0.86270 to 0.87530, saving model to .\\LeNet5_relu.hdf5\n",
      "1875/1875 - 6s - loss: 0.4837 - accuracy: 0.8609 - val_loss: 0.4371 - val_accuracy: 0.8753 - lr: 2.0000e-04 - 6s/epoch - 3ms/step\n",
      "Epoch 6/20\n",
      "\n",
      "Epoch 6: val_accuracy improved from 0.87530 to 0.88040, saving model to .\\LeNet5_relu.hdf5\n",
      "1875/1875 - 6s - loss: 0.4471 - accuracy: 0.8713 - val_loss: 0.4083 - val_accuracy: 0.8804 - lr: 2.0000e-04 - 6s/epoch - 3ms/step\n",
      "Epoch 7/20\n",
      "\n",
      "Epoch 7: val_accuracy improved from 0.88040 to 0.88490, saving model to .\\LeNet5_relu.hdf5\n",
      "1875/1875 - 6s - loss: 0.4277 - accuracy: 0.8771 - val_loss: 0.4015 - val_accuracy: 0.8849 - lr: 5.0000e-05 - 6s/epoch - 3ms/step\n",
      "Epoch 8/20\n",
      "\n",
      "Epoch 8: val_accuracy improved from 0.88490 to 0.88610, saving model to .\\LeNet5_relu.hdf5\n",
      "1875/1875 - 6s - loss: 0.4214 - accuracy: 0.8791 - val_loss: 0.3957 - val_accuracy: 0.8861 - lr: 5.0000e-05 - 6s/epoch - 3ms/step\n",
      "Epoch 9/20\n",
      "\n",
      "Epoch 9: val_accuracy improved from 0.88610 to 0.88710, saving model to .\\LeNet5_relu.hdf5\n",
      "1875/1875 - 7s - loss: 0.4154 - accuracy: 0.8802 - val_loss: 0.3899 - val_accuracy: 0.8871 - lr: 5.0000e-05 - 7s/epoch - 4ms/step\n",
      "Epoch 10/20\n",
      "\n",
      "Epoch 10: val_accuracy improved from 0.88710 to 0.88850, saving model to .\\LeNet5_relu.hdf5\n",
      "1875/1875 - 7s - loss: 0.4097 - accuracy: 0.8826 - val_loss: 0.3847 - val_accuracy: 0.8885 - lr: 5.0000e-05 - 7s/epoch - 4ms/step\n",
      "Epoch 11/20\n",
      "\n",
      "Epoch 11: val_accuracy improved from 0.88850 to 0.88900, saving model to .\\LeNet5_relu.hdf5\n",
      "1875/1875 - 8s - loss: 0.4059 - accuracy: 0.8834 - val_loss: 0.3837 - val_accuracy: 0.8890 - lr: 1.0000e-05 - 8s/epoch - 4ms/step\n",
      "Epoch 12/20\n",
      "\n",
      "Epoch 12: val_accuracy did not improve from 0.88900\n",
      "1875/1875 - 7s - loss: 0.4048 - accuracy: 0.8835 - val_loss: 0.3826 - val_accuracy: 0.8890 - lr: 1.0000e-05 - 7s/epoch - 4ms/step\n",
      "Epoch 13/20\n",
      "\n",
      "Epoch 13: val_accuracy improved from 0.88900 to 0.88920, saving model to .\\LeNet5_relu.hdf5\n",
      "1875/1875 - 7s - loss: 0.4038 - accuracy: 0.8840 - val_loss: 0.3816 - val_accuracy: 0.8892 - lr: 1.0000e-05 - 7s/epoch - 4ms/step\n",
      "Epoch 14/20\n",
      "\n",
      "Epoch 14: val_accuracy improved from 0.88920 to 0.89010, saving model to .\\LeNet5_relu.hdf5\n",
      "1875/1875 - 8s - loss: 0.4027 - accuracy: 0.8843 - val_loss: 0.3807 - val_accuracy: 0.8901 - lr: 1.0000e-05 - 8s/epoch - 4ms/step\n",
      "Epoch 15/20\n",
      "\n",
      "Epoch 15: val_accuracy did not improve from 0.89010\n",
      "1875/1875 - 6s - loss: 0.4017 - accuracy: 0.8844 - val_loss: 0.3798 - val_accuracy: 0.8901 - lr: 1.0000e-05 - 6s/epoch - 3ms/step\n",
      "Epoch 16/20\n",
      "\n",
      "Epoch 16: val_accuracy did not improve from 0.89010\n",
      "1875/1875 - 6s - loss: 0.4007 - accuracy: 0.8847 - val_loss: 0.3788 - val_accuracy: 0.8899 - lr: 1.0000e-05 - 6s/epoch - 3ms/step\n",
      "Epoch 17/20\n",
      "\n",
      "Epoch 17: val_accuracy improved from 0.89010 to 0.89090, saving model to .\\LeNet5_relu.hdf5\n",
      "1875/1875 - 7s - loss: 0.3997 - accuracy: 0.8849 - val_loss: 0.3776 - val_accuracy: 0.8909 - lr: 1.0000e-05 - 7s/epoch - 4ms/step\n",
      "Epoch 18/20\n",
      "\n",
      "Epoch 18: val_accuracy improved from 0.89090 to 0.89100, saving model to .\\LeNet5_relu.hdf5\n",
      "1875/1875 - 7s - loss: 0.3987 - accuracy: 0.8853 - val_loss: 0.3768 - val_accuracy: 0.8910 - lr: 1.0000e-05 - 7s/epoch - 3ms/step\n",
      "Epoch 19/20\n",
      "\n",
      "Epoch 19: val_accuracy improved from 0.89100 to 0.89170, saving model to .\\LeNet5_relu.hdf5\n",
      "1875/1875 - 6s - loss: 0.3977 - accuracy: 0.8856 - val_loss: 0.3759 - val_accuracy: 0.8917 - lr: 1.0000e-05 - 6s/epoch - 3ms/step\n",
      "Epoch 20/20\n",
      "\n",
      "Epoch 20: val_accuracy did not improve from 0.89170\n",
      "1875/1875 - 6s - loss: 0.3967 - accuracy: 0.8858 - val_loss: 0.3749 - val_accuracy: 0.8914 - lr: 1.0000e-05 - 6s/epoch - 3ms/step\n"
     ]
    }
   ],
   "source": [
    "model_relu.compile(loss='categorical_crossentropy', optimizer='sgd', metrics=['accuracy'])\n",
    "\n",
    "checkpoint_relu = ModelCheckpoint(filepath='./LeNet5_relu.hdf5', monitor='val_accuracy', verbose=1, save_best_only=True)\n",
    "\n",
    "callbacks_relu=[checkpoint_relu, lr_scheduler]\n",
    "\n",
    "hist_relu=model_relu.fit(X_train, y_train, batch_size=32, epochs=20, validation_data=(X_test, y_test), callbacks=callbacks_relu, verbose=2, shuffle=True)"
   ]
  },
  {
   "cell_type": "code",
   "execution_count": 9,
   "metadata": {},
   "outputs": [
    {
     "name": "stdout",
     "output_type": "stream",
     "text": [
      "Test accuracy: 88.0000%\n"
     ]
    }
   ],
   "source": [
    "# evaluate test accuracy\n",
    "score = model.evaluate(X_test, y_test, verbose=0)\n",
    "accuracy = 100*score[1]\n",
    "\n",
    "# print test accuracy\n",
    "print('Test accuracy: %.4f%%' % accuracy)\n"
   ]
  },
  {
   "cell_type": "code",
   "execution_count": 10,
   "metadata": {},
   "outputs": [
    {
     "name": "stdout",
     "output_type": "stream",
     "text": [
      "Test accuracy: 89.1400%\n"
     ]
    }
   ],
   "source": [
    "score = model_relu.evaluate(X_test, y_test, verbose=0)\n",
    "accuracy = 100*score[1]\n",
    "\n",
    "print('Test accuracy: %.4f%%'% accuracy)"
   ]
  },
  {
   "cell_type": "code",
   "execution_count": 11,
   "metadata": {},
   "outputs": [
    {
     "data": {
      "image/png": "[encoded data removed]",
      "text/plain": [
       "<Figure size 432x288 with 1 Axes>"
      ]
     },
     "metadata": {
      "needs_background": "light"
     },
     "output_type": "display_data"
    }
   ],
   "source": [
    "\n",
    "import matplotlib.pyplot as plt\n",
    "\n",
    "f, ax = plt.subplots()\n",
    "ax.plot([None] + hist.history['accuracy'], 'o-')\n",
    "ax.plot([None] + hist.history['val_accuracy'], 'x-')\n",
    "# Plot legend and use the best location automatically: loc = 0.\n",
    "ax.legend(['Train acc', 'Validation acc'], loc = 0)\n",
    "ax.set_title('Training/Validation acc per Epoch')\n",
    "ax.set_xlabel('Epoch')\n",
    "ax.set_ylabel('acc')\n",
    "plt.show()\n"
   ]
  },
  {
   "cell_type": "code",
   "execution_count": 12,
   "metadata": {},
   "outputs": [
    {
     "data": {
      "image/png": "[encoded data removed]",
      "text/plain": [
       "<Figure size 432x288 with 1 Axes>"
      ]
     },
     "metadata": {
      "needs_background": "light"
     },
     "output_type": "display_data"
    }
   ],
   "source": [
    "import matplotlib.pyplot as plt\n",
    "\n",
    "f, ax = plt.subplots()\n",
    "ax.plot([None] + hist.history['loss'], 'o-')\n",
    "ax.plot([None] + hist.history['val_loss'], 'x-')\n",
    "\n",
    "# Plot legend and use the best location automatically: loc = 0.\n",
    "ax.legend(['Train loss', \"Val loss\"], loc = 0)\n",
    "ax.set_title('Training/Validation Loss per Epoch')\n",
    "ax.set_xlabel('Epoch')\n",
    "ax.set_ylabel('Loss')\n",
    "plt.show()\n"
   ]
  },
  {
   "cell_type": "code",
   "execution_count": 13,
   "metadata": {},
   "outputs": [
    {
     "data": {
      "image/png": "[encoded data removed]",
      "text/plain": [
       "<Figure size 432x288 with 1 Axes>"
      ]
     },
     "metadata": {
      "needs_background": "light"
     },
     "output_type": "display_data"
    }
   ],
   "source": [
    "\n",
    "import matplotlib.pyplot as plt\n",
    "\n",
    "f, ax = plt.subplots()\n",
    "ax.plot([None] + hist_relu.history['accuracy'], 'o-')\n",
    "ax.plot([None] + hist_relu.history['val_accuracy'], 'x-')\n",
    "# Plot legend and use the best location automatically: loc = 0.\n",
    "ax.legend(['Train acc', 'Validation acc'], loc = 0)\n",
    "ax.set_title('Training/Validation acc per Epoch')\n",
    "ax.set_xlabel('Epoch')\n",
    "ax.set_ylabel('acc')\n",
    "plt.show()\n"
   ]
  },
  {
   "cell_type": "code",
   "execution_count": 14,
   "metadata": {},
   "outputs": [
    {
     "data": {
      "image/png": "[encoded data removed]",
      "text/plain": [
       "<Figure size 432x288 with 1 Axes>"
      ]
     },
     "metadata": {
      "needs_background": "light"
     },
     "output_type": "display_data"
    }
   ],
   "source": [
    "import matplotlib.pyplot as plt\n",
    "\n",
    "f, ax = plt.subplots()\n",
    "ax.plot([None] + hist_relu.history['loss'], 'o-')\n",
    "ax.plot([None] + hist_relu.history['val_loss'], 'x-')\n",
    "\n",
    "# Plot legend and use the best location automatically: loc = 0.\n",
    "ax.legend(['Train loss', \"Val loss\"], loc = 0)\n",
    "ax.set_title('Training/Validation Loss per Epoch')\n",
    "ax.set_xlabel('Epoch')\n",
    "ax.set_ylabel('Loss')\n",
    "plt.show()\n"
   ]
  },
  {
   "cell_type": "code",
   "execution_count": null,
   "metadata": {},
   "outputs": [],
   "source": []
  }
 ],
 "metadata": {
  "kernelspec": {
   "display_name": "Python 3.9.12 ('base')",
   "language": "python",
   "name": "python3"
  },
  "language_info": {
   "codemirror_mode": {
    "name": "ipython",
    "version": 3
   },
   "file_extension": ".py",
   "mimetype": "text/x-python",
   "name": "python",
   "nbconvert_exporter": "python",
   "pygments_lexer": "ipython3",
   "version": "3.9.12"
  },
  "orig_nbformat": 4,
  "vscode": {
   "interpreter": {
    "hash": "fe7e35a9f2f3de21f54100d33f4f30d27a89ac45856d743fc93d9d66411222da"
   }
  }
 },
 "nbformat": 4,
 "nbformat_minor": 2
}
