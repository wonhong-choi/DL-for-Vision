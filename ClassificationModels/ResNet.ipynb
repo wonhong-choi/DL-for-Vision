{
 "cells": [
  {
   "cell_type": "code",
   "execution_count": 9,
   "metadata": {},
   "outputs": [],
   "source": [
    "from keras.layers import Conv2D, MaxPooling2D, BatchNormalization, Add, Activation, Dense, Input, AveragePooling2D,Flatten\n",
    "from keras.models import Model"
   ]
  },
  {
   "cell_type": "code",
   "execution_count": 10,
   "metadata": {},
   "outputs": [],
   "source": [
    "def bottleneck_residual_block(x, kernel_size, filters, reduce=False, s=2):\n",
    "    f1, f2, f3 = filters\n",
    "\n",
    "    x_shortcut=x\n",
    "\n",
    "    if reduce:\n",
    "        x_shortcut = Conv2D(f3, (1,1), (s,s))(x_shortcut)\n",
    "        x_shortcut=BatchNormalization(axis=3)(x_shortcut)\n",
    "\n",
    "        x=Conv2D(f1,(1,1), (s,s), 'valid')(x)\n",
    "        x=BatchNormalization(axis=3)(x)\n",
    "        x=Activation('relu')(x)\n",
    "\n",
    "    else:\n",
    "        x=Conv2D(f1,(1,1), (1,1), 'same')(x)\n",
    "        x=BatchNormalization(axis=3)(x)\n",
    "        x=Activation('relu')(x)\n",
    "\n",
    "    x= Conv2D(f2, kernel_size, (1,1), 'same')(x)\n",
    "    x=BatchNormalization(axis=3)(x)\n",
    "    x=Activation('relu')(x)\n",
    "\n",
    "    x= Conv2D(f3, (1,1), (1,1), 'valid')(x)\n",
    "    x=BatchNormalization(axis=3)(x)\n",
    "\n",
    "    x=Add()([x, x_shortcut])\n",
    "    x=Activation('relu')(x)\n",
    "\n",
    "    return x\n"
   ]
  },
  {
   "cell_type": "code",
   "execution_count": 13,
   "metadata": {},
   "outputs": [],
   "source": [
    "def ResNet50(input_shape, classes):\n",
    "    \n",
    "    X_input = Input(input_shape)\n",
    "\n",
    "    # part 1\n",
    "    X=Conv2D(64, (7,7), (2,2), name='conv1')(X_input)\n",
    "    X=BatchNormalization(axis=3, name='bn_conv1')(X)\n",
    "    X=Activation('relu')(X)\n",
    "    X=MaxPooling2D((3,3), (2,2))(X)\n",
    "\n",
    "    # part 2\n",
    "    X=bottleneck_residual_block(X, 3, [64, 64, 256], reduce=True, s=1)\n",
    "    X=bottleneck_residual_block(X, 3, [64, 64, 256])\n",
    "    X=bottleneck_residual_block(X, 3, [64, 64, 256])\n",
    "\n",
    "    # part 3\n",
    "    X=bottleneck_residual_block(X, 3, [128, 128, 512], reduce=True, s=2)\n",
    "    X=bottleneck_residual_block(X, 3, [128, 128, 512])\n",
    "    X=bottleneck_residual_block(X, 3, [128, 128, 512])\n",
    "    X=bottleneck_residual_block(X, 3, [128, 128, 512])\n",
    "\n",
    "    # part 4\n",
    "    X=bottleneck_residual_block(X, 3, [256, 256, 1024], reduce=True, s=2)\n",
    "    X=bottleneck_residual_block(X, 3, [256, 256, 1024])\n",
    "    X=bottleneck_residual_block(X, 3, [256, 256, 1024])\n",
    "    X=bottleneck_residual_block(X, 3, [256, 256, 1024])\n",
    "    X=bottleneck_residual_block(X, 3, [256, 256, 1024])\n",
    "    X=bottleneck_residual_block(X, 3, [256, 256, 1024])\n",
    "\n",
    "    # part 5\n",
    "    X=bottleneck_residual_block(X, 3, [512, 512, 2048], reduce=True, s=2)\n",
    "    X=bottleneck_residual_block(X, 3, [512, 512, 2048])\n",
    "    X=bottleneck_residual_block(X, 3, [512, 512, 2048])\n",
    "\n",
    "    X= AveragePooling2D((1,1))(X)\n",
    "\n",
    "    X=Flatten()(X)\n",
    "    X=Dense(classes, 'softmax', name='fc'+str(classes))(X)\n",
    "\n",
    "    model = Model(inputs=X_input, outputs=X, name='ResNet50')\n",
    "    return model"
   ]
  },
  {
   "cell_type": "code",
   "execution_count": 15,
   "metadata": {},
   "outputs": [],
   "source": [
    "from keras.optimizers import SGD\n",
    "from keras.callbacks import ReduceLROnPlateau\n",
    "import numpy as np\n",
    "\n",
    "epochs=200\n",
    "batch_size=256\n",
    "\n",
    "\n",
    "reduce_lr = ReduceLROnPlateau('val_loss', np.sqrt(0.1), patience=5, min_lr = 0.5e-6)\n",
    "\n",
    "model = ResNet50((224,224,3), 10)\n",
    "model.compile(loss='categorical_crossentropy', optimizer=SGD(), metrics=['accuracy'])\n"
   ]
  }
 ],
 "metadata": {
  "kernelspec": {
   "display_name": "base",
   "language": "python",
   "name": "python3"
  },
  "language_info": {
   "codemirror_mode": {
    "name": "ipython",
    "version": 3
   },
   "file_extension": ".py",
   "mimetype": "text/x-python",
   "name": "python",
   "nbconvert_exporter": "python",
   "pygments_lexer": "ipython3",
   "version": "3.9.12"
  },
  "orig_nbformat": 4,
  "vscode": {
   "interpreter": {
    "hash": "fe7e35a9f2f3de21f54100d33f4f30d27a89ac45856d743fc93d9d66411222da"
   }
  }
 },
 "nbformat": 4,
 "nbformat_minor": 2
}
